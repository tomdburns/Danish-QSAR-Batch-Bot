{
 "cells": [
  {
   "cell_type": "code",
   "execution_count": 283,
   "id": "6a605da2-96c4-4de0-8094-57c6dc67e6c8",
   "metadata": {},
   "outputs": [],
   "source": [
    "\"\"\"\n",
    "Prototype bot code to access the Danish QSAR Database\n",
    "\n",
    "August 31st 2023\n",
    "\"\"\"\n",
    "\n",
    "import numpy as np\n",
    "import pandas as pd\n",
    "from time import sleep\n",
    "from selenium import webdriver\n",
    "from selenium.webdriver.common.keys import Keys\n",
    "from selenium.webdriver.common.by import By\n",
    "from selenium.webdriver.support.select import Select"
   ]
  },
  {
   "cell_type": "code",
   "execution_count": 247,
   "id": "4c88fcbd-3367-46bf-b13e-ac1ac0738df1",
   "metadata": {},
   "outputs": [],
   "source": [
    "site = 'https://qsarmodels.food.dtu.dk/runmodel/index.html'\n",
    "\n",
    "#browser = webdriver.Firefox()\n",
    "browser = webdriver.Edge()\n",
    "browser.get(site)"
   ]
  },
  {
   "cell_type": "code",
   "execution_count": 248,
   "id": "80c9b992-f58c-47bd-a950-2a32a1b144b2",
   "metadata": {},
   "outputs": [],
   "source": [
    "# Accept the terms of service for the website\n",
    "\n",
    "accept = browser.find_element(By.CLASS_NAME, \"qx-button\")\n",
    "accept.click()"
   ]
  },
  {
   "cell_type": "code",
   "execution_count": 249,
   "id": "c148ab04-21be-4ecf-ac02-534fca24451c",
   "metadata": {},
   "outputs": [],
   "source": [
    "# Select the tab with the correct models\n",
    "\n",
    "model_tab = browser.find_element(By.XPATH, \"/html/body/div[3]/div[3]/div[2]/div[2]/div[1]/div/div/div[3]\")\n",
    "model_tab.click()"
   ]
  },
  {
   "cell_type": "code",
   "execution_count": 250,
   "id": "90cf5617-5ca6-4230-82d7-c6697cbfce66",
   "metadata": {},
   "outputs": [],
   "source": [
    "# Select the models to run. Prototype version of this code\n",
    "# will just run all available models since it was faster to find\n",
    "# the \"select all\" checkbox in the elements for the site\"\n",
    "\n",
    "check = browser.find_element(By.CLASS_NAME, 'qx-checkbox')\n",
    "check.click()"
   ]
  },
  {
   "cell_type": "code",
   "execution_count": 251,
   "id": "05515ef7-f3e8-4893-839a-6cdc9a23c146",
   "metadata": {},
   "outputs": [],
   "source": [
    "# Select Option to Insert SMILES\n",
    "\n",
    "smi_tab = browser.find_element(By.XPATH, '//*[@id=\"myEditor\"]/table/tbody/tr[1]/td/div[6]')\n",
    "smi_tab.click()"
   ]
  },
  {
   "cell_type": "code",
   "execution_count": 252,
   "id": "edc9ed52-ae6b-409c-bcc8-7c789c2966b6",
   "metadata": {},
   "outputs": [],
   "source": [
    "# Insert the desired SMILES\n",
    "\n",
    "SMILES = 'C=1C=CC(=CC1)C(C2=CC=C3C(=C2)CCCC3)C'\n",
    "\n",
    "smi_box = browser.find_element(By.XPATH, '//*[@id=\"myEditor\"]/table/tbody/tr[2]/td[2]/div/div/textarea')\n",
    "smi_box.send_keys(SMILES)\n",
    "go      = browser.find_element(By.XPATH, '//*[@id=\"myEditor\"]/table/tbody/tr[2]/td[2]/div/div/div/input[1]')\n",
    "go.click()"
   ]
  },
  {
   "cell_type": "code",
   "execution_count": 254,
   "id": "3aee4dc9-eea1-4565-b942-9d6762ebb1b2",
   "metadata": {},
   "outputs": [],
   "source": [
    "# Execute models\n",
    "\n",
    "sleep(5)\n",
    "predict = browser.find_element(By.XPATH, '/html/body/div[3]/div[2]')\n",
    "predict.click()"
   ]
  },
  {
   "cell_type": "code",
   "execution_count": null,
   "id": "12883bc8-c5ba-42d3-93d8-c70a00168674",
   "metadata": {},
   "outputs": [],
   "source": [
    "# Check Progress\n",
    "\n",
    "timeout = 5000 # seconds\n",
    "total   = 0\n",
    "tstep   = 5\n",
    "\n",
    "while total < timeout:\n",
    "    status = browser.find_element(By.XPATH, '/html/body/div[3]/div[6]/div[1]')\n",
    "    if 'processing' in str(status.text).lower():\n",
    "        #print('Calculation still running after %i seconds' % total)\n",
    "        total += tstep\n",
    "        sleep(tstep)\n",
    "    else:\n",
    "        print('Calculation finished after %i seconds' % total)\n",
    "        break\n",
    "if total >= timeout:\n",
    "    print(\"Calculation timed out after %i seconds\" % timeout)\n",
    "else:\n",
    "    print(\"Calculation successful\")"
   ]
  },
  {
   "cell_type": "code",
   "execution_count": null,
   "id": "7c5fed71-069a-4a29-9d16-bc9775e8fc2e",
   "metadata": {},
   "outputs": [],
   "source": [
    "per   = 5\n",
    "table = browser.find_element(By.XPATH, '/html/body/div[3]/div[6]/div[2]/div/div[1]/div')\n",
    "data  = str(table.text)"
   ]
  },
  {
   "cell_type": "code",
   "execution_count": null,
   "id": "e24dd010-b897-4abf-93ef-6787e4e7538b",
   "metadata": {},
   "outputs": [],
   "source": [
    "data = data.split('\\n')\n",
    "refr = []\n",
    "sub  = []\n",
    "for i, val in enumerate(data):\n",
    "    sub.append(val)\n",
    "    if (i+1) % per == 0:\n",
    "        refr.append(sub[:])\n",
    "        sub = []\n",
    "#refr.append(sub[:])\n",
    "refr = np.array(refr)\n",
    "cols = refr[0,:]\n",
    "data = refr[1:,:]\n",
    "refr = pd.DataFrame(data, columns=cols)"
   ]
  },
  {
   "cell_type": "code",
   "execution_count": null,
   "id": "f4936489-8233-4610-9005-ad5f2d55ddd3",
   "metadata": {},
   "outputs": [],
   "source": [
    "refr.to_csv('test.csv', index=False)\n",
    "refr"
   ]
  },
  {
   "cell_type": "code",
   "execution_count": null,
   "id": "7512ba01-c4f0-4bb3-9bc7-9e11578d093e",
   "metadata": {},
   "outputs": [],
   "source": []
  }
 ],
 "metadata": {
  "kernelspec": {
   "display_name": "Python 3 (ipykernel)",
   "language": "python",
   "name": "python3"
  },
  "language_info": {
   "codemirror_mode": {
    "name": "ipython",
    "version": 3
   },
   "file_extension": ".py",
   "mimetype": "text/x-python",
   "name": "python",
   "nbconvert_exporter": "python",
   "pygments_lexer": "ipython3",
   "version": "3.9.12"
  }
 },
 "nbformat": 4,
 "nbformat_minor": 5
}
